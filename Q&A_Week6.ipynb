{
  "nbformat": 4,
  "nbformat_minor": 0,
  "metadata": {
    "colab": {
      "name": "Q&A_Week6.ipynb",
      "provenance": []
    },
    "kernelspec": {
      "name": "python3",
      "display_name": "Python 3"
    },
    "language_info": {
      "name": "python"
    }
  },
  "cells": [
    {
      "cell_type": "code",
      "execution_count": 1,
      "metadata": {
        "id": "Wdty3U8niSwc"
      },
      "outputs": [],
      "source": [
        "import numpy as np \n",
        "import pandas as pd\n",
        "import matplotlib.pyplot as plt\n",
        "import seaborn as sns\n",
        "from IPython.display import Markdown as md\n"
      ]
    },
    {
      "cell_type": "code",
      "source": [
        "df = pd.read_excel('Dataset_w6.xlsx')"
      ],
      "metadata": {
        "id": "6yTr2dHUjKL7"
      },
      "execution_count": 2,
      "outputs": []
    },
    {
      "cell_type": "code",
      "source": [
        "df.head()"
      ],
      "metadata": {
        "colab": {
          "base_uri": "https://localhost:8080/",
          "height": 285
        },
        "id": "YXSrUBd1jnBX",
        "outputId": "3487ea01-b209-4b79-e64b-806084fb42ca"
      },
      "execution_count": 3,
      "outputs": [
        {
          "output_type": "execute_result",
          "data": {
            "text/plain": [
              "               country          Region  Surface area (km2)  \\\n",
              "0          Afghanistan    SouthernAsia            652864.0   \n",
              "1              Albania  SouthernEurope             28748.0   \n",
              "2              Algeria  NorthernAfrica           2381741.0   \n",
              "3               Angola    MiddleAfrica           1246700.0   \n",
              "4  Antigua and Barbuda       Caribbean               442.0   \n",
              "\n",
              "   Population in thousands (2017)  GDP per capita (current US$)  \\\n",
              "0                         35530.0                         623.2   \n",
              "1                          2930.0                        3984.2   \n",
              "2                         41318.0                        4154.1   \n",
              "3                         29784.0                        4714.1   \n",
              "4                           102.0                       14764.5   \n",
              "\n",
              "   Agricultural production index   International trade: Imports (million US$)  \n",
              "0                           125.0                                      3568.0  \n",
              "1                           134.0                                      4669.0  \n",
              "2                           160.0                                     47091.0  \n",
              "3                           175.0                                      8790.0  \n",
              "4                            88.0                                       491.0  "
            ],
            "text/html": [
              "\n",
              "  <div id=\"df-71e8c815-5dbf-4e15-b8ab-b810524141ee\">\n",
              "    <div class=\"colab-df-container\">\n",
              "      <div>\n",
              "<style scoped>\n",
              "    .dataframe tbody tr th:only-of-type {\n",
              "        vertical-align: middle;\n",
              "    }\n",
              "\n",
              "    .dataframe tbody tr th {\n",
              "        vertical-align: top;\n",
              "    }\n",
              "\n",
              "    .dataframe thead th {\n",
              "        text-align: right;\n",
              "    }\n",
              "</style>\n",
              "<table border=\"1\" class=\"dataframe\">\n",
              "  <thead>\n",
              "    <tr style=\"text-align: right;\">\n",
              "      <th></th>\n",
              "      <th>country</th>\n",
              "      <th>Region</th>\n",
              "      <th>Surface area (km2)</th>\n",
              "      <th>Population in thousands (2017)</th>\n",
              "      <th>GDP per capita (current US$)</th>\n",
              "      <th>Agricultural production index</th>\n",
              "      <th>International trade: Imports (million US$)</th>\n",
              "    </tr>\n",
              "  </thead>\n",
              "  <tbody>\n",
              "    <tr>\n",
              "      <th>0</th>\n",
              "      <td>Afghanistan</td>\n",
              "      <td>SouthernAsia</td>\n",
              "      <td>652864.0</td>\n",
              "      <td>35530.0</td>\n",
              "      <td>623.2</td>\n",
              "      <td>125.0</td>\n",
              "      <td>3568.0</td>\n",
              "    </tr>\n",
              "    <tr>\n",
              "      <th>1</th>\n",
              "      <td>Albania</td>\n",
              "      <td>SouthernEurope</td>\n",
              "      <td>28748.0</td>\n",
              "      <td>2930.0</td>\n",
              "      <td>3984.2</td>\n",
              "      <td>134.0</td>\n",
              "      <td>4669.0</td>\n",
              "    </tr>\n",
              "    <tr>\n",
              "      <th>2</th>\n",
              "      <td>Algeria</td>\n",
              "      <td>NorthernAfrica</td>\n",
              "      <td>2381741.0</td>\n",
              "      <td>41318.0</td>\n",
              "      <td>4154.1</td>\n",
              "      <td>160.0</td>\n",
              "      <td>47091.0</td>\n",
              "    </tr>\n",
              "    <tr>\n",
              "      <th>3</th>\n",
              "      <td>Angola</td>\n",
              "      <td>MiddleAfrica</td>\n",
              "      <td>1246700.0</td>\n",
              "      <td>29784.0</td>\n",
              "      <td>4714.1</td>\n",
              "      <td>175.0</td>\n",
              "      <td>8790.0</td>\n",
              "    </tr>\n",
              "    <tr>\n",
              "      <th>4</th>\n",
              "      <td>Antigua and Barbuda</td>\n",
              "      <td>Caribbean</td>\n",
              "      <td>442.0</td>\n",
              "      <td>102.0</td>\n",
              "      <td>14764.5</td>\n",
              "      <td>88.0</td>\n",
              "      <td>491.0</td>\n",
              "    </tr>\n",
              "  </tbody>\n",
              "</table>\n",
              "</div>\n",
              "      <button class=\"colab-df-convert\" onclick=\"convertToInteractive('df-71e8c815-5dbf-4e15-b8ab-b810524141ee')\"\n",
              "              title=\"Convert this dataframe to an interactive table.\"\n",
              "              style=\"display:none;\">\n",
              "        \n",
              "  <svg xmlns=\"http://www.w3.org/2000/svg\" height=\"24px\"viewBox=\"0 0 24 24\"\n",
              "       width=\"24px\">\n",
              "    <path d=\"M0 0h24v24H0V0z\" fill=\"none\"/>\n",
              "    <path d=\"M18.56 5.44l.94 2.06.94-2.06 2.06-.94-2.06-.94-.94-2.06-.94 2.06-2.06.94zm-11 1L8.5 8.5l.94-2.06 2.06-.94-2.06-.94L8.5 2.5l-.94 2.06-2.06.94zm10 10l.94 2.06.94-2.06 2.06-.94-2.06-.94-.94-2.06-.94 2.06-2.06.94z\"/><path d=\"M17.41 7.96l-1.37-1.37c-.4-.4-.92-.59-1.43-.59-.52 0-1.04.2-1.43.59L10.3 9.45l-7.72 7.72c-.78.78-.78 2.05 0 2.83L4 21.41c.39.39.9.59 1.41.59.51 0 1.02-.2 1.41-.59l7.78-7.78 2.81-2.81c.8-.78.8-2.07 0-2.86zM5.41 20L4 18.59l7.72-7.72 1.47 1.35L5.41 20z\"/>\n",
              "  </svg>\n",
              "      </button>\n",
              "      \n",
              "  <style>\n",
              "    .colab-df-container {\n",
              "      display:flex;\n",
              "      flex-wrap:wrap;\n",
              "      gap: 12px;\n",
              "    }\n",
              "\n",
              "    .colab-df-convert {\n",
              "      background-color: #E8F0FE;\n",
              "      border: none;\n",
              "      border-radius: 50%;\n",
              "      cursor: pointer;\n",
              "      display: none;\n",
              "      fill: #1967D2;\n",
              "      height: 32px;\n",
              "      padding: 0 0 0 0;\n",
              "      width: 32px;\n",
              "    }\n",
              "\n",
              "    .colab-df-convert:hover {\n",
              "      background-color: #E2EBFA;\n",
              "      box-shadow: 0px 1px 2px rgba(60, 64, 67, 0.3), 0px 1px 3px 1px rgba(60, 64, 67, 0.15);\n",
              "      fill: #174EA6;\n",
              "    }\n",
              "\n",
              "    [theme=dark] .colab-df-convert {\n",
              "      background-color: #3B4455;\n",
              "      fill: #D2E3FC;\n",
              "    }\n",
              "\n",
              "    [theme=dark] .colab-df-convert:hover {\n",
              "      background-color: #434B5C;\n",
              "      box-shadow: 0px 1px 3px 1px rgba(0, 0, 0, 0.15);\n",
              "      filter: drop-shadow(0px 1px 2px rgba(0, 0, 0, 0.3));\n",
              "      fill: #FFFFFF;\n",
              "    }\n",
              "  </style>\n",
              "\n",
              "      <script>\n",
              "        const buttonEl =\n",
              "          document.querySelector('#df-71e8c815-5dbf-4e15-b8ab-b810524141ee button.colab-df-convert');\n",
              "        buttonEl.style.display =\n",
              "          google.colab.kernel.accessAllowed ? 'block' : 'none';\n",
              "\n",
              "        async function convertToInteractive(key) {\n",
              "          const element = document.querySelector('#df-71e8c815-5dbf-4e15-b8ab-b810524141ee');\n",
              "          const dataTable =\n",
              "            await google.colab.kernel.invokeFunction('convertToInteractive',\n",
              "                                                     [key], {});\n",
              "          if (!dataTable) return;\n",
              "\n",
              "          const docLinkHtml = 'Like what you see? Visit the ' +\n",
              "            '<a target=\"_blank\" href=https://colab.research.google.com/notebooks/data_table.ipynb>data table notebook</a>'\n",
              "            + ' to learn more about interactive tables.';\n",
              "          element.innerHTML = '';\n",
              "          dataTable['output_type'] = 'display_data';\n",
              "          await google.colab.output.renderOutput(dataTable, element);\n",
              "          const docLink = document.createElement('div');\n",
              "          docLink.innerHTML = docLinkHtml;\n",
              "          element.appendChild(docLink);\n",
              "        }\n",
              "      </script>\n",
              "    </div>\n",
              "  </div>\n",
              "  "
            ]
          },
          "metadata": {},
          "execution_count": 3
        }
      ]
    },
    {
      "cell_type": "markdown",
      "source": [
        "1. Find out how many countries are there in the dataset."
      ],
      "metadata": {
        "id": "EMx2rnyijo2P"
      }
    },
    {
      "cell_type": "code",
      "source": [
        "md(f\"Number of countries: {len(set(df['country']))}\")"
      ],
      "metadata": {
        "colab": {
          "base_uri": "https://localhost:8080/",
          "height": 46
        },
        "id": "Na-1H2aIjvIR",
        "outputId": "8ad07659-29c3-4844-835b-d53267eae0bf"
      },
      "execution_count": 4,
      "outputs": [
        {
          "output_type": "execute_result",
          "data": {
            "text/plain": [
              "<IPython.core.display.Markdown object>"
            ],
            "text/markdown": "Number of countries: 196"
          },
          "metadata": {},
          "execution_count": 4
        }
      ]
    },
    {
      "cell_type": "markdown",
      "source": [
        "**2. Examine the data by using visualizations**"
      ],
      "metadata": {
        "id": "xOhOhywYj1op"
      }
    },
    {
      "cell_type": "markdown",
      "source": [
        "a. Top 10 Largest Countries in the dataset (by population)"
      ],
      "metadata": {
        "id": "QPCqxkRgkHhV"
      }
    },
    {
      "cell_type": "code",
      "source": [
        "largest_countries = df.nlargest(10,'Population in thousands (2017)')\n",
        "a = largest_countries['country']\n",
        "b = largest_countries['Population in thousands (2017)']\n",
        "\n",
        "plt.bar(a, b)\n",
        "\n",
        "plt.title('Top 10 countries based on population')\n",
        "plt.xticks(rotation=90)\n",
        "\n",
        "plt.ylabel('Population in thousands')\n",
        "plt.show()\n",
        "\n",
        "md(f\"Population of the largest country is {int(b.max() * 1000)}.\")"
      ],
      "metadata": {
        "colab": {
          "base_uri": "https://localhost:8080/",
          "height": 425
        },
        "id": "aliy0yb4kMeM",
        "outputId": "750798bc-e8f0-4a28-9fd5-d2c09e189f2e"
      },
      "execution_count": 5,
      "outputs": [
        {
          "output_type": "display_data",
          "data": {
            "text/plain": [
              "<Figure size 432x288 with 1 Axes>"
            ],
            "image/png": "[encoded data removed]"
          },
          "metadata": {
            "needs_background": "light"
          }
        },
        {
          "output_type": "execute_result",
          "data": {
            "text/plain": [
              "<IPython.core.display.Markdown object>"
            ],
            "text/markdown": "Population of the largest country is 1409517000."
          },
          "metadata": {},
          "execution_count": 5
        }
      ]
    },
    {
      "cell_type": "markdown",
      "source": [
        "b. Top 10 Smallest Countries in the dataset (by surface area)\n"
      ],
      "metadata": {
        "id": "9Qy_lPtFkb_S"
      }
    },
    {
      "cell_type": "code",
      "source": [
        "smallest_countries = df.nsmallest(10,'Surface area (km2)')['Surface area (km2)']\n",
        "\n",
        "plt.pie(smallest_countries, labels = df.nsmallest(10,'Surface area (km2)')['country'])\n",
        "plt.title('Top 10 Smallest Countries in the World (by surface area)')\n",
        "plt.show()"
      ],
      "metadata": {
        "colab": {
          "base_uri": "https://localhost:8080/",
          "height": 264
        },
        "id": "zeuNvwCEkdLF",
        "outputId": "bd72548c-cd71-43b9-8e90-3890e07b7877"
      },
      "execution_count": 6,
      "outputs": [
        {
          "output_type": "display_data",
          "data": {
            "text/plain": [
              "<Figure size 432x288 with 1 Axes>"
            ],
            "image/png": "[encoded data removed]"
          },
          "metadata": {}
        }
      ]
    },
    {
      "cell_type": "markdown",
      "source": [
        "c. Pie chart of number of countries in a region"
      ],
      "metadata": {
        "id": "CXNitqI0kmv7"
      }
    },
    {
      "cell_type": "code",
      "source": [
        "count_of_countries_wrt_region = df[['Region','country']].groupby('Region')['country'].count()\n",
        "\n",
        "plt.pie(count_of_countries_wrt_region,labels = count_of_countries_wrt_region)\n",
        "plt.title('Pie chart of number of countries in a region')\n",
        "plt.show()"
      ],
      "metadata": {
        "colab": {
          "base_uri": "https://localhost:8080/",
          "height": 264
        },
        "id": "TmyAZ7JxkpdN",
        "outputId": "b86c2b7a-6bdd-4d64-d867-c7979995ab0f"
      },
      "execution_count": 7,
      "outputs": [
        {
          "output_type": "display_data",
          "data": {
            "text/plain": [
              "<Figure size 432x288 with 1 Axes>"
            ],
            "image/png": "[encoded data removed]"
          },
          "metadata": {}
        }
      ]
    },
    {
      "cell_type": "markdown",
      "source": [
        "**3. Find out how many countries wrt the region are available in the dataset**"
      ],
      "metadata": {
        "id": "orWrPMgOktX9"
      }
    },
    {
      "cell_type": "code",
      "source": [
        "count_of_countries_wrt_region = df[['Region','country']].groupby('Region')['country'].count()\n",
        "print(count_of_countries_wrt_region)"
      ],
      "metadata": {
        "colab": {
          "base_uri": "https://localhost:8080/"
        },
        "id": "t00kIxl1kyim",
        "outputId": "eeca7baf-e9fd-44d8-e762-18c9d1854d73"
      },
      "execution_count": 8,
      "outputs": [
        {
          "output_type": "stream",
          "name": "stdout",
          "text": [
            "Region\n",
            "Caribbean            16\n",
            "CentralAmerica        8\n",
            "CentralAsia           5\n",
            "EasternAfrica        17\n",
            "EasternAsia           7\n",
            "EasternEurope        10\n",
            "Melanesia             5\n",
            "Micronesia            4\n",
            "MiddleAfrica          9\n",
            "NorthernAfrica        5\n",
            "NorthernAmerica       4\n",
            "NorthernEurope       10\n",
            "Oceania               2\n",
            "Polynesia             5\n",
            "South-easternAsia    11\n",
            "SouthAmerica         12\n",
            "SouthernAfrica        5\n",
            "SouthernAsia          9\n",
            "SouthernEurope       12\n",
            "WesternAfrica        15\n",
            "WesternAsia          18\n",
            "WesternEurope         7\n",
            "Name: country, dtype: int64\n"
          ]
        }
      ]
    },
    {
      "cell_type": "markdown",
      "source": [
        "**4. On average which region has the highest :**"
      ],
      "metadata": {
        "id": "3u1lAPNFk7xH"
      }
    },
    {
      "cell_type": "markdown",
      "source": [
        "a. GDP per capita (current US$)"
      ],
      "metadata": {
        "id": "RSjHf2RnlE0q"
      }
    },
    {
      "cell_type": "code",
      "source": [
        "GDP_per_capita_wrt_region = df[['Region','GDP per capita (current US$)']].groupby('Region')['GDP per capita (current US$)'].mean()\n",
        "md(f\"{GDP_per_capita_wrt_region.idxmax()} region has the highest GDP per capita.\")"
      ],
      "metadata": {
        "colab": {
          "base_uri": "https://localhost:8080/",
          "height": 46
        },
        "id": "99R8e4ZVkypq",
        "outputId": "77ffa5e4-4a5f-4583-bbfd-2d1f2979c380"
      },
      "execution_count": 9,
      "outputs": [
        {
          "output_type": "execute_result",
          "data": {
            "text/plain": [
              "<IPython.core.display.Markdown object>"
            ],
            "text/markdown": "NorthernAmerica region has the highest GDP per capita."
          },
          "metadata": {},
          "execution_count": 9
        }
      ]
    },
    {
      "cell_type": "markdown",
      "source": [
        "b. International Trade: imports (million US$)"
      ],
      "metadata": {
        "id": "HePPFP_qlaam"
      }
    },
    {
      "cell_type": "code",
      "source": [
        "trade_wrt_region = df[['Region','International trade: Imports (million US$)']].groupby('Region')['International trade: Imports (million US$)'].mean()\n",
        "md(f\"{trade_wrt_region.idxmax()} region has the highest international trade.\")"
      ],
      "metadata": {
        "colab": {
          "base_uri": "https://localhost:8080/",
          "height": 46
        },
        "id": "nav66Of-lfuL",
        "outputId": "f26123a8-ae5e-4f04-e005-c020a8477ed0"
      },
      "execution_count": 10,
      "outputs": [
        {
          "output_type": "execute_result",
          "data": {
            "text/plain": [
              "<IPython.core.display.Markdown object>"
            ],
            "text/markdown": "NorthernAmerica region has the highest international trade."
          },
          "metadata": {},
          "execution_count": 10
        }
      ]
    },
    {
      "cell_type": "markdown",
      "source": [
        "**5. Find out which region has more consistency wrt GDP per capita (current US$)**"
      ],
      "metadata": {
        "id": "4SCd1g6Gltix"
      }
    },
    {
      "cell_type": "code",
      "source": [
        "GDP_per_capita_wrt_region_std = df[['Region','GDP per capita (current US$)']].groupby('Region')['GDP per capita (current US$)'].std()\n",
        "md(f\"{GDP_per_capita_wrt_region_std.idxmin()} region is the most consistent with respect to GDP.\")"
      ],
      "metadata": {
        "colab": {
          "base_uri": "https://localhost:8080/",
          "height": 46
        },
        "id": "DZQt8_kMl2WP",
        "outputId": "c61e8f28-a1f4-4ee1-d238-985ef3463fb0"
      },
      "execution_count": 11,
      "outputs": [
        {
          "output_type": "execute_result",
          "data": {
            "text/plain": [
              "<IPython.core.display.Markdown object>"
            ],
            "text/markdown": "WesternAfrica region is the most consistent with respect to GDP."
          },
          "metadata": {},
          "execution_count": 11
        }
      ]
    }
  ]
}